{
 "cells": [
  {
   "cell_type": "code",
   "execution_count": 1,
   "id": "912ebb1f",
   "metadata": {},
   "outputs": [
    {
     "name": "stdout",
     "output_type": "stream",
     "text": [
      "Requirement already satisfied: ipynb in c:\\users\\ritis\\anaconda3\\lib\\site-packages (0.5.1)\n"
     ]
    }
   ],
   "source": [
    "#import heart_disease #import code\n",
    "#%run code.ipynb\n",
    "!pip install ipynb"
   ]
  },
  {
   "cell_type": "code",
   "execution_count": 2,
   "id": "d94ac81c",
   "metadata": {},
   "outputs": [
    {
     "name": "stdout",
     "output_type": "stream",
     "text": [
      "Requirement already satisfied: import-ipynb in c:\\users\\ritis\\anaconda3\\lib\\site-packages (0.1.3)\n",
      "Note: you may need to restart the kernel to use updated packages.\n"
     ]
    }
   ],
   "source": [
    "pip install import-ipynb"
   ]
  },
  {
   "cell_type": "code",
   "execution_count": 3,
   "id": "fdeb3bab",
   "metadata": {},
   "outputs": [],
   "source": [
    "import import_ipynb"
   ]
  },
  {
   "cell_type": "code",
   "execution_count": 4,
   "id": "ddd87af8",
   "metadata": {
    "scrolled": true
   },
   "outputs": [],
   "source": [
    "#from ipynb.fs.full.code import *  \n",
    "##%run code2.ipynb\n"
   ]
  },
  {
   "cell_type": "code",
   "execution_count": 5,
   "id": "c9345167",
   "metadata": {},
   "outputs": [
    {
     "name": "stdout",
     "output_type": "stream",
     "text": [
      "select options:\n",
      "1.heart disease \n",
      "2.diabetes \n",
      "3.breast cancer\n",
      "2\n",
      "importing Jupyter notebook from coded.ipynb\n",
      "enter input:\n",
      "enter Number of times you are pregnant:5\n",
      "enter Plasma glucose concentration:166\n",
      "enter Diastolic blood pressure:72\n",
      "enter Triceps skin fold thickness (mm):19\n",
      "enter 2-Hour serum insulin (mu U/ml):175\n",
      "enter Body mass index (weight in kg/(height in m)^2):25.8\n",
      "enter Diabetes pedigree function:0.587\n",
      "enter Age (in years):51\n",
      "Diabetic\n"
     ]
    }
   ],
   "source": [
    "print(\"select options:\")\n",
    "print(\"1.heart disease \\n2.diabetes \\n3.breast cancer\")\n",
    "s=int(input())\n",
    "if s==1:\n",
    "    import codeh  #lst=[43,0,2,140,192,173,1,1.3,0,0,0,1,0,0,0,1,1,0,0]\n",
    "elif s==2:\n",
    "    import coded #input = (5,166,72,19,175,25.8,0.587,51)\n",
    "else:\n",
    "    import codeb"
   ]
  },
  {
   "cell_type": "code",
   "execution_count": null,
   "id": "ec60ce65",
   "metadata": {},
   "outputs": [],
   "source": []
  }
 ],
 "metadata": {
  "kernelspec": {
   "display_name": "Python 3",
   "language": "python",
   "name": "python3"
  },
  "language_info": {
   "codemirror_mode": {
    "name": "ipython",
    "version": 3
   },
   "file_extension": ".py",
   "mimetype": "text/x-python",
   "name": "python",
   "nbconvert_exporter": "python",
   "pygments_lexer": "ipython3",
   "version": "3.8.8"
  }
 },
 "nbformat": 4,
 "nbformat_minor": 5
}
