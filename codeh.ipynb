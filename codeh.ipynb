{
 "cells": [
  {
   "cell_type": "markdown",
   "id": "1bd0edbd",
   "metadata": {},
   "source": [
    "# Heart Disease Prediction"
   ]
  },
  {
   "cell_type": "markdown",
   "id": "9dcbebaa",
   "metadata": {},
   "source": [
    "I have collected the dataset from kaggle and I will be using machine learning to predict whether a person is suffering from Heart Disease or not."
   ]
  },
  {
   "cell_type": "markdown",
   "id": "d4af595e",
   "metadata": {},
   "source": [
    "--------------------------------------------------------------------------------------------------------------------------------"
   ]
  },
  {
   "cell_type": "markdown",
   "id": "5187be35",
   "metadata": {},
   "source": [
    "importing libraries"
   ]
  },
  {
   "cell_type": "code",
   "execution_count": 1,
   "id": "874263e5",
   "metadata": {},
   "outputs": [],
   "source": [
    "import numpy as np\n",
    "import pandas as pd\n",
    "import seaborn as sns\n",
    "import matplotlib.pyplot as plt\n",
    "import warnings \n",
    "warnings.filterwarnings('ignore')"
   ]
  },
  {
   "cell_type": "code",
   "execution_count": 2,
   "id": "ff36580b",
   "metadata": {},
   "outputs": [],
   "source": [
    "from sklearn.model_selection import train_test_split\n",
    "from sklearn.preprocessing import StandardScaler\n",
    "from sklearn.metrics import accuracy_score"
   ]
  },
  {
   "cell_type": "markdown",
   "id": "450c18f3",
   "metadata": {},
   "source": [
    "## Data Description"
   ]
  },
  {
   "cell_type": "markdown",
   "id": "0ffb887e",
   "metadata": {},
   "source": [
    "age: The person's age in years\n",
    "\n",
    "sex: The person's sex (1 = male, 0 = female)\n",
    "\n",
    "cp: chest pain type\n",
    "-- Value 0: typical angina\n",
    "-- Value 1: atypical angina\n",
    "-- Value 2: non-anginal pain\n",
    "-- Value 3: asymptomatic\n",
    "\n",
    "trtbps: The person's resting blood pressure (mm Hg on admission to the hospital)\n",
    "\n",
    "chol: The person's cholesterol measurement in mg/dl\n",
    "\n",
    "fbs: The person's fasting blood sugar (> 120 mg/dl, 1 = true; 0 = false)\n",
    "\n",
    "restecg: resting electrocardiographic results\n",
    "-- Value 0: normal\n",
    "-- Value 1: having ST-T wave abnormality (T wave inversions and/or ST elevation or depression of > 0.05 mV)\n",
    "-- Value 2: showing probable or definite left ventricular hypertrophy by Estes' criteria\n",
    "\n",
    "thalachh: The person's maximum heart rate achieved\n",
    "\n",
    "exng: Exercise induced angina (1 = yes; 0 = no)\n",
    "\n",
    "oldpeak: ST depression induced by exercise relative to rest ('ST' relates to positions on the ECG plot)\n",
    "\n",
    "slp-(slope): the slope of the peak exercise ST segment\n",
    "-- Value 0: downsloping\n",
    "-- Value 1: flat\n",
    "-- Value 2: upsloping\n",
    "\n",
    "caa: The number of major vessels (0-3)\n",
    "\n",
    "thall\n",
    "Results of the blood flow observed via the radioactive dye.\n",
    "-- Value 0: NULL (dropped from the dataset previously)\n",
    "-- Value 1: fixed defect (no blood flow in some part of the heart)\n",
    "-- Value 2: normal blood flow\n",
    "-- Value 3: reversible defect (a blood flow is observed but it is not normal)\n",
    "\n",
    "target: 0 = disease, 1 = no disease"
   ]
  },
  {
   "cell_type": "markdown",
   "id": "bd9352b2",
   "metadata": {},
   "source": [
    "reading dataset"
   ]
  },
  {
   "cell_type": "code",
   "execution_count": 3,
   "id": "4554ff42",
   "metadata": {},
   "outputs": [],
   "source": [
    "df= pd.read_csv(\"heart_attack_dataset.csv\")"
   ]
  },
  {
   "cell_type": "code",
   "execution_count": 4,
   "id": "71088f32",
   "metadata": {},
   "outputs": [],
   "source": [
    "#df.info()"
   ]
  },
  {
   "cell_type": "code",
   "execution_count": 5,
   "id": "237e4027",
   "metadata": {},
   "outputs": [],
   "source": [
    "#df.describe()"
   ]
  },
  {
   "cell_type": "code",
   "execution_count": 6,
   "id": "0a293e6e",
   "metadata": {
    "scrolled": true
   },
   "outputs": [],
   "source": [
    "#df.isnull().sum()"
   ]
  },
  {
   "cell_type": "code",
   "execution_count": 7,
   "id": "ca121fbb",
   "metadata": {},
   "outputs": [],
   "source": [
    "#df.duplicated().sum()"
   ]
  },
  {
   "cell_type": "code",
   "execution_count": 8,
   "id": "850482fe",
   "metadata": {},
   "outputs": [],
   "source": [
    "df.drop_duplicates(inplace=True)"
   ]
  },
  {
   "cell_type": "code",
   "execution_count": 9,
   "id": "38ad94f4",
   "metadata": {},
   "outputs": [],
   "source": [
    "#df.duplicated().sum()"
   ]
  },
  {
   "cell_type": "markdown",
   "id": "ad40b1ee",
   "metadata": {},
   "source": [
    "## Data Analysis"
   ]
  },
  {
   "cell_type": "code",
   "execution_count": 10,
   "id": "4187e0be",
   "metadata": {},
   "outputs": [],
   "source": [
    "from sklearn.feature_selection import SelectKBest\n",
    "from sklearn.feature_selection import chi2\n",
    "data = df.copy()\n",
    "X = data.iloc[:,0:13]  #independent columns\n",
    "y = data.iloc[:,-1]    #target column \n",
    "#apply SelectKBest class to extract top 10 best features\n",
    "bestfeatures = SelectKBest(score_func=chi2, k=10)\n",
    "fit = bestfeatures.fit(X,y)\n",
    "dfscores = pd.DataFrame(fit.scores_)\n",
    "dfcolumns = pd.DataFrame(X.columns)\n",
    "#concat two dataframes for better visualization \n",
    "featureScores = pd.concat([dfcolumns,dfscores],axis=1)\n",
    "featureScores.columns = ['Specs','Score']  #naming the dataframe columns\n",
    "#print(featureScores.nlargest(12,'Score'))  #print 10 best features"
   ]
  },
  {
   "cell_type": "code",
   "execution_count": 11,
   "id": "d046dc05",
   "metadata": {},
   "outputs": [],
   "source": [
    "\n",
    "from sklearn.ensemble import ExtraTreesClassifier\n",
    "\n",
    "model = ExtraTreesClassifier()\n",
    "model.fit(X,y)\n",
    "#print(model.feature_importances_) #use inbuilt class feature_importances of tree based classifiers\n",
    "##plot graph of feature importances for better visualization\n",
    "feat_importances = pd.Series(model.feature_importances_, index=X.columns)\n",
    "#feat_importances.nlargest(13).plot(kind='barh')\n",
    "#plt.show()"
   ]
  },
  {
   "cell_type": "code",
   "execution_count": 12,
   "id": "95bc84a8",
   "metadata": {},
   "outputs": [],
   "source": [
    "#df.groupby('output').mean()"
   ]
  },
  {
   "cell_type": "code",
   "execution_count": 13,
   "id": "0a6b5dee",
   "metadata": {},
   "outputs": [],
   "source": [
    "#df.corr()"
   ]
  },
  {
   "cell_type": "code",
   "execution_count": 14,
   "id": "2293939a",
   "metadata": {},
   "outputs": [],
   "source": [
    "cm=df.corr()\n",
    "top_corr_features=cm.index\n",
    "#plt.figure(figsize=(20,20))\n",
    "#g=sns.heatmap(df[top_corr_features].corr(),annot=True,cmap=\"RdBu\")\n"
   ]
  },
  {
   "cell_type": "code",
   "execution_count": 15,
   "id": "dba2edbe",
   "metadata": {
    "scrolled": true
   },
   "outputs": [],
   "source": [
    "#!pip install https://github.com/pandas-profiling/pandas-profiling/archive/master.zip"
   ]
  },
  {
   "cell_type": "code",
   "execution_count": 16,
   "id": "e7f93842",
   "metadata": {
    "scrolled": true
   },
   "outputs": [],
   "source": [
    "#import pandas_profiling as pp\n",
    "#pp.ProfileReport(df)"
   ]
  },
  {
   "cell_type": "markdown",
   "id": "e09a3413",
   "metadata": {},
   "source": [
    "## Data visualization"
   ]
  },
  {
   "cell_type": "markdown",
   "id": "a6cd7d0d",
   "metadata": {},
   "source": [
    "countplot is used when there are limited number of classifiers or limited distinct values\n",
    "distplot is used when the values are in float or continuos"
   ]
  },
  {
   "cell_type": "code",
   "execution_count": 17,
   "id": "c6bf3cc0",
   "metadata": {},
   "outputs": [],
   "source": [
    "sns.set_style('darkgrid')\n",
    "sns.set_palette('Set2')"
   ]
  },
  {
   "cell_type": "code",
   "execution_count": 18,
   "id": "dcf8233a",
   "metadata": {},
   "outputs": [],
   "source": [
    "df2 = df.copy()"
   ]
  },
  {
   "cell_type": "code",
   "execution_count": 19,
   "id": "9e62d5d0",
   "metadata": {},
   "outputs": [],
   "source": [
    "def chng(sex):\n",
    "    if sex == 0:\n",
    "        return 'female'\n",
    "    else:\n",
    "        return 'male'\n",
    "df2['sex'] = df2['sex'].apply(chng)"
   ]
  },
  {
   "cell_type": "code",
   "execution_count": 20,
   "id": "49ef406d",
   "metadata": {},
   "outputs": [],
   "source": [
    "def chng2(prob):\n",
    "    if prob == 0:\n",
    "        return 'Heart Disease'\n",
    "    else:\n",
    "        return 'No Heart Disease'\n",
    "df2['output'] = df2['output'].apply(chng2)"
   ]
  },
  {
   "cell_type": "code",
   "execution_count": 21,
   "id": "b671c573",
   "metadata": {},
   "outputs": [],
   "source": [
    "#plt.figure(figsize=(10,6))\n",
    "#sns.countplot(data= df2, x='sex',hue='output')\n",
    "#plt.title('Gender v/s output\\n',size=15)"
   ]
  },
  {
   "cell_type": "code",
   "execution_count": 22,
   "id": "131ac91c",
   "metadata": {},
   "outputs": [],
   "source": [
    "#plt.figure(figsize=(10,6))\n",
    "#sns.countplot(data= df2, x='cp',hue='output')\n",
    "#plt.title('Chest Pain Type v/s output\\n',size=15)"
   ]
  },
  {
   "cell_type": "code",
   "execution_count": 23,
   "id": "0cdefe1a",
   "metadata": {},
   "outputs": [],
   "source": [
    "#plt.figure(figsize=(10,6))\n",
    "#sns.countplot(df[\"output\"])\n",
    "#plt.title(\"Attack\",size=15)\n",
    "#plt.show()\n",
    "#sns.countplot(x='output',data=df)"
   ]
  },
  {
   "cell_type": "code",
   "execution_count": 24,
   "id": "96a12ebc",
   "metadata": {},
   "outputs": [],
   "source": [
    "#plt.figure(figsize=(10,6))\n",
    "#sns.countplot(data= df2, x='sex',hue='thall')\n",
    "#plt.title('Gender v/s Thalassemia\\n',size=15)"
   ]
  },
  {
   "cell_type": "code",
   "execution_count": 25,
   "id": "5bf6f6c4",
   "metadata": {},
   "outputs": [],
   "source": [
    "#plt.figure(figsize=(10,6))\n",
    "#sns.countplot(data= df2, x='slp',hue='output')\n",
    "#plt.title('Slope v/s Output\\n',size=15)"
   ]
  },
  {
   "cell_type": "code",
   "execution_count": 26,
   "id": "3b318df9",
   "metadata": {},
   "outputs": [],
   "source": [
    "#plt.figure(figsize=(10,6))\n",
    "#sns.countplot(data= df2, x='exng',hue='thall')\n",
    "#plt.title('exercise induced angina v/s Thalassemia\\n',size=15)"
   ]
  },
  {
   "cell_type": "code",
   "execution_count": 27,
   "id": "33cc03b3",
   "metadata": {},
   "outputs": [],
   "source": [
    "#plt.figure(figsize=(20,8))\n",
    "#sns.distplot(df[df[\"output\"]==0][\"age\"],kde=False,bins=50)\n",
    "#plt.title(\"Age of Heart Diseased Patients\\n\",size=15)\n",
    "#plt.show()"
   ]
  },
  {
   "cell_type": "code",
   "execution_count": 28,
   "id": "3b4b4a1e",
   "metadata": {},
   "outputs": [],
   "source": [
    "#plt.figure(figsize=(20,8))\n",
    "#sns.distplot(df[df['output']==0]['chol'],kde=False,bins=40)\n",
    "#plt.title('Cholestrol of Heart Diseased Patients\\n',size=15)"
   ]
  },
  {
   "cell_type": "code",
   "execution_count": 29,
   "id": "60052af5",
   "metadata": {},
   "outputs": [],
   "source": [
    "#plt.figure(figsize=(20,8))\n",
    "#sns.distplot(df[df['output']==0]['thalachh'],kde=False,bins=40)\n",
    "#plt.title('max heart rate achieved(thalachh) of Heart Diseased Patients\\n',size=15)"
   ]
  },
  {
   "cell_type": "markdown",
   "id": "6e25fc1e",
   "metadata": {},
   "source": [
    "## Data pre-processing"
   ]
  },
  {
   "cell_type": "code",
   "execution_count": 30,
   "id": "b0085051",
   "metadata": {},
   "outputs": [],
   "source": [
    "#df.info()"
   ]
  },
  {
   "cell_type": "code",
   "execution_count": 31,
   "id": "8078e710",
   "metadata": {},
   "outputs": [],
   "source": [
    "df.columns = ['age', 'sex', 'chest_pain_type', 'resting_blood_pressure', 'cholesterol', 'fasting_blood_sugar', 'rest_ecg_type', 'max_heart_rate_achieved',\n",
    "       'exercise_induced_angina', 'st_depression', 'st_slope_type', 'num_major_vessels', 'thalassemia_type', 'target']\n",
    "\n",
    "#df.columns"
   ]
  },
  {
   "cell_type": "code",
   "execution_count": 32,
   "id": "daeff79c",
   "metadata": {},
   "outputs": [],
   "source": [
    "#df.info()"
   ]
  },
  {
   "cell_type": "markdown",
   "id": "ca0a95c0",
   "metadata": {},
   "source": [
    "We have 4 Categorical columns as seen in Data Description using pandas profiling:\n",
    "\n",
    "cp - chest_pain_type\n",
    "\n",
    "restecg - rest_ecg_type\n",
    "\n",
    "slope - st_slope_type\n",
    "\n",
    "thal - thalassemia_type"
   ]
  },
  {
   "cell_type": "code",
   "execution_count": 33,
   "id": "acb23d89",
   "metadata": {},
   "outputs": [],
   "source": [
    "#cp - chest_pain_type\n",
    "df.loc[df['chest_pain_type'] == 0, 'chest_pain_type'] = 'typical angina'\n",
    "df.loc[df['chest_pain_type'] == 1, 'chest_pain_type'] = 'atypical angina'\n",
    "df.loc[df['chest_pain_type'] == 2, 'chest_pain_type'] = 'non-anginal pain'\n",
    "df.loc[df['chest_pain_type'] == 3, 'chest_pain_type'] = 'asymptomatic'\n",
    "\n",
    "#restecg - rest_ecg_type\n",
    "df.loc[df['rest_ecg_type'] == 0, 'rest_ecg_type'] = 'normal'\n",
    "df.loc[df['rest_ecg_type'] == 1, 'rest_ecg_type'] = 'ST-T wave abnormality'\n",
    "df.loc[df['rest_ecg_type'] == 2, 'rest_ecg_type'] = 'left ventricular hypertrophy'\n",
    "\n",
    "#slope - st_slope_type\n",
    "df.loc[df['st_slope_type'] == 0, 'st_slope_type'] = 'downsloping'\n",
    "df.loc[df['st_slope_type'] == 1, 'st_slope_type'] = 'flat'\n",
    "df.loc[df['st_slope_type'] == 2, 'st_slope_type'] = 'upsloping'\n",
    "\n",
    "#thal - thalassemia_type\n",
    "df.loc[df['thalassemia_type'] == 0, 'thalassemia_type'] = 'nothing'\n",
    "df.loc[df['thalassemia_type'] == 1, 'thalassemia_type'] = 'fixed defect'\n",
    "df.loc[df['thalassemia_type'] == 2, 'thalassemia_type'] = 'normal'\n",
    "df.loc[df['thalassemia_type'] == 3, 'thalassemia_type'] = 'reversable defect'\n",
    "\n"
   ]
  },
  {
   "cell_type": "code",
   "execution_count": 34,
   "id": "084331e3",
   "metadata": {},
   "outputs": [],
   "source": [
    "#df.head()"
   ]
  },
  {
   "cell_type": "code",
   "execution_count": 35,
   "id": "fe5ae1f9",
   "metadata": {},
   "outputs": [],
   "source": [
    "data = pd.get_dummies(df, drop_first=False)\n",
    "#data.columns"
   ]
  },
  {
   "cell_type": "code",
   "execution_count": 36,
   "id": "1528e8d1",
   "metadata": {},
   "outputs": [],
   "source": [
    "df_temp = data['thalassemia_type_fixed defect']"
   ]
  },
  {
   "cell_type": "code",
   "execution_count": 37,
   "id": "8db29f14",
   "metadata": {},
   "outputs": [],
   "source": [
    "data = pd.get_dummies(df, drop_first=True)"
   ]
  },
  {
   "cell_type": "code",
   "execution_count": 38,
   "id": "21fe0531",
   "metadata": {},
   "outputs": [],
   "source": [
    "#data.head()"
   ]
  },
  {
   "cell_type": "code",
   "execution_count": 39,
   "id": "1193bdb8",
   "metadata": {},
   "outputs": [],
   "source": [
    "frames = [data, df_temp]\n",
    "result = pd.concat(frames,axis=1)\n",
    "\n",
    "#result.head()"
   ]
  },
  {
   "cell_type": "code",
   "execution_count": 40,
   "id": "b5a8cbaf",
   "metadata": {},
   "outputs": [],
   "source": [
    "result.drop('thalassemia_type_nothing',axis=1,inplace=True)\n",
    "resultc = result.copy()"
   ]
  },
  {
   "cell_type": "code",
   "execution_count": 41,
   "id": "6b5612d2",
   "metadata": {},
   "outputs": [],
   "source": [
    "#result.columns"
   ]
  },
  {
   "cell_type": "code",
   "execution_count": 42,
   "id": "3f4996c2",
   "metadata": {},
   "outputs": [],
   "source": [
    "X = result.drop('target', axis = 1)\n"
   ]
  },
  {
   "cell_type": "code",
   "execution_count": 43,
   "id": "12484e7e",
   "metadata": {},
   "outputs": [],
   "source": [
    "y = result['target']"
   ]
  },
  {
   "cell_type": "markdown",
   "id": "23186a3d",
   "metadata": {},
   "source": [
    "## Data standardization"
   ]
  },
  {
   "cell_type": "code",
   "execution_count": 44,
   "id": "2d233b59",
   "metadata": {},
   "outputs": [],
   "source": [
    "from sklearn.preprocessing import StandardScaler"
   ]
  },
  {
   "cell_type": "code",
   "execution_count": 45,
   "id": "2b840ddc",
   "metadata": {},
   "outputs": [
    {
     "data": {
      "text/plain": [
       "StandardScaler()"
      ]
     },
     "execution_count": 45,
     "metadata": {},
     "output_type": "execute_result"
    }
   ],
   "source": [
    "scaler = StandardScaler()\n",
    "scaler.fit(X)"
   ]
  },
  {
   "cell_type": "code",
   "execution_count": 46,
   "id": "09764c05",
   "metadata": {},
   "outputs": [],
   "source": [
    "standardized_data = scaler.transform(X)\n",
    "#print(standardized_data)"
   ]
  },
  {
   "cell_type": "code",
   "execution_count": null,
   "id": "fe8d3077",
   "metadata": {},
   "outputs": [],
   "source": []
  },
  {
   "cell_type": "markdown",
   "id": "8fb45f5f",
   "metadata": {},
   "source": [
    "##  Train Test Split"
   ]
  },
  {
   "cell_type": "code",
   "execution_count": 47,
   "id": "9fe178df",
   "metadata": {},
   "outputs": [],
   "source": [
    "from sklearn.model_selection import train_test_split"
   ]
  },
  {
   "cell_type": "code",
   "execution_count": 48,
   "id": "c4987fff",
   "metadata": {},
   "outputs": [],
   "source": [
    "X_train, X_test, y_train, y_test = train_test_split(X, y, test_size=0.2, random_state=0)"
   ]
  },
  {
   "cell_type": "code",
   "execution_count": 67,
   "id": "e9b1fb0d",
   "metadata": {},
   "outputs": [],
   "source": [
    "#X.info()"
   ]
  },
  {
   "cell_type": "markdown",
   "id": "55ae9171",
   "metadata": {},
   "source": [
    "## Training Model"
   ]
  },
  {
   "cell_type": "code",
   "execution_count": 50,
   "id": "9119252d",
   "metadata": {},
   "outputs": [],
   "source": [
    "from sklearn.linear_model import LogisticRegression"
   ]
  },
  {
   "cell_type": "code",
   "execution_count": 51,
   "id": "ecc9fa9f",
   "metadata": {},
   "outputs": [],
   "source": [
    "logre = LogisticRegression()"
   ]
  },
  {
   "cell_type": "code",
   "execution_count": 52,
   "id": "6865262b",
   "metadata": {},
   "outputs": [
    {
     "data": {
      "text/plain": [
       "LogisticRegression()"
      ]
     },
     "execution_count": 52,
     "metadata": {},
     "output_type": "execute_result"
    }
   ],
   "source": [
    " logre.fit(X_train,y_train)"
   ]
  },
  {
   "cell_type": "code",
   "execution_count": 53,
   "id": "f338b272",
   "metadata": {},
   "outputs": [],
   "source": [
    "y_pred = logre.predict(X_test)"
   ]
  },
  {
   "cell_type": "code",
   "execution_count": 54,
   "id": "66be39c5",
   "metadata": {},
   "outputs": [],
   "source": [
    "actual = []\n",
    "predcition = []\n",
    "\n",
    "for i,j in zip(y_test,y_pred):\n",
    "  actual.append(i)\n",
    "  predcition.append(j) \n",
    "\n",
    "dic = {'Actual':actual,\n",
    "       'Prediction':predcition\n",
    "       }"
   ]
  },
  {
   "cell_type": "code",
   "execution_count": 55,
   "id": "c93984ef",
   "metadata": {},
   "outputs": [],
   "source": [
    "result  = pd.DataFrame(dic)"
   ]
  },
  {
   "cell_type": "code",
   "execution_count": 56,
   "id": "f82564b7",
   "metadata": {
    "scrolled": true
   },
   "outputs": [],
   "source": [
    "#!pip install plotly\n",
    "#!pip install cufflinks"
   ]
  },
  {
   "cell_type": "code",
   "execution_count": 57,
   "id": "939d8fd3",
   "metadata": {},
   "outputs": [],
   "source": [
    "#from plotly import graph_objs as go\n",
    " \n",
    "#fig = go.Figure()\n",
    " \n",
    "    #fig.add_trace(go.Scatter(x=np.arange(0,len(y_test)), y=y_test,\n",
    " #                   mode='markers+lines',\n",
    "  #                  name='Test'))\n",
    "\n",
    "#fig.add_trace(go.Scatter(x=np.arange(0,len(y_test)), y=y_pred,\n",
    "   #                 mode='markers',\n",
    "    #                name='Pred'))"
   ]
  },
  {
   "cell_type": "markdown",
   "id": "17634a40",
   "metadata": {},
   "source": [
    "## Model Evaluation"
   ]
  },
  {
   "cell_type": "code",
   "execution_count": 58,
   "id": "8b5db9ae",
   "metadata": {},
   "outputs": [],
   "source": [
    "from sklearn.metrics import accuracy_score\n",
    "#print(accuracy_score(y_test,y_pred))"
   ]
  },
  {
   "cell_type": "code",
   "execution_count": 59,
   "id": "14c34a24",
   "metadata": {},
   "outputs": [],
   "source": [
    "from sklearn.metrics import classification_report\n",
    "#print(classification_report(y_test,y_pred))\n"
   ]
  },
  {
   "cell_type": "code",
   "execution_count": 60,
   "id": "8e56c5cf",
   "metadata": {},
   "outputs": [],
   "source": [
    "from sklearn.metrics import confusion_matrix\n",
    "#print(confusion_matrix(y_test,y_pred))\n",
    "#sns.heatmap(confusion_matrix(y_test,y_pred),annot=True)"
   ]
  },
  {
   "cell_type": "code",
   "execution_count": 61,
   "id": "542990d5",
   "metadata": {},
   "outputs": [],
   "source": [
    "from sklearn.metrics import roc_curve\n",
    "#fpr, tpr, thresholds = roc_curve(y_test, y_pred)\n",
    "#3plt.plot(fpr,tpr)\n",
    "#plt.xlim([0.0, 1.0])\n",
    "#plt.ylim([0.0, 1.0])\n",
    "#plt.title('ROC curve for Heart disease classifier')\n",
    "#plt.xlabel('False positive rate (1-Specificity)')\n",
    "#plt.ylabel('True positive rate (Sensitivity)')\n",
    "#plt.grid(True)"
   ]
  },
  {
   "cell_type": "code",
   "execution_count": 62,
   "id": "234088d8",
   "metadata": {},
   "outputs": [],
   "source": [
    "import sklearn\n",
    "#sklearn.metrics.roc_auc_score(y_test,y_pred)"
   ]
  },
  {
   "cell_type": "markdown",
   "id": "ec8021d2",
   "metadata": {},
   "source": [
    "## Result"
   ]
  },
  {
   "cell_type": "code",
   "execution_count": 66,
   "id": "d2dfa6b1",
   "metadata": {},
   "outputs": [
    {
     "name": "stdout",
     "output_type": "stream",
     "text": [
      "enter input:\n",
      "enter age(in years):43\n",
      "enter sex(enter 1 if male \n",
      " enter 0 if female):0\n",
      "enter resting blood pressure (enter 0 if normal \n",
      " enter 1 if having ST-T wave abnormality \n",
      "enter 2 if showing probable or definite left ventricular hypertrophy by Estes' criteria) :2\n",
      "enter cholesterol :140\n",
      "enter fasting blood sugar:192\n",
      "enter  max heart rate achieved:173\n",
      "enter  exercise induced angina (enter 1 if yes\n",
      " enter 0 if no):1\n",
      "enter st depression( induced by exercise relative to rest) :1.3\n",
      "enter major vessels((0-3) colored by flourosopy):0\n",
      "chest pain type-atypical angina(enter 1 if yes\n",
      " enter 0 if no):0\n",
      "chest pain type-non-anginal pain(enter 1 if yes\n",
      " enter 0 if no):0\n",
      "chest pain type-typical angina(enter 1 if yes\n",
      " enter 0 if no):1\n",
      "rest ecg type-left ventricular hypertrophy(enter 1 if yes\n",
      " enter 0 if no):0\n",
      "rest ecg type-normal(enter 1 if yes\n",
      " enter 0 if no):0\n",
      "st slope type-flat(enter 1 if yes\n",
      " enter 0 if no):0\n",
      "st slope type-upsloping(enter 1 if yes\n",
      " enter 0 if no):1\n",
      "thalassemia type-normal(enter 1 if yes\n",
      " enter 0 if no):1\n",
      "thalassemia type-reversable defect(enter 1 if yes\n",
      " enter 0 if no):0\n",
      "thalassemia type-fixed defect(enter 1 if yes\n",
      " enter 0 if no):0\n",
      "you may have heart disease\n"
     ]
    }
   ],
   "source": [
    "def predict():\n",
    "    print(\"enter input:\")\n",
    "    \n",
    "    lst=[]\n",
    "    r=int(input(\"enter age(in years):\"))\n",
    "    lst.append([r])\n",
    "    r=int(input(\"enter sex(enter 1 if male \\n enter 0 if female):\"))\n",
    "    lst.append([r])\n",
    "    r=int(input(\"enter resting blood pressure (enter 0 if normal \\n enter 1 if having ST-T wave abnormality \\nenter 2 if showing probable or definite left ventricular hypertrophy by Estes' criteria) :\"))\n",
    "    lst.append([r])\n",
    "    r=int(input(\"enter cholesterol :\"))\n",
    "    lst.append([r])\n",
    "    r=int(input(\"enter fasting blood sugar:\"))\n",
    "    lst.append([r])\n",
    "    r=int(input(\"enter  max heart rate achieved:\"))\n",
    "    lst.append([r])\n",
    "    r=int(input(\"enter  exercise induced angina (enter 1 if yes\\n enter 0 if no):\"))\n",
    "    lst.append([r])\n",
    "    r=float(input(\"enter st depression( induced by exercise relative to rest) :\"))\n",
    "    lst.append([r])\n",
    "    r=int(input(\"enter major vessels((0-3) colored by flourosopy):\"))\n",
    "    lst.append([r])\n",
    "    r=int(input(\"chest pain type-atypical angina(enter 1 if yes\\n enter 0 if no):\"))\n",
    "    lst.append([r])\n",
    "    r=int(input(\"chest pain type-non-anginal pain(enter 1 if yes\\n enter 0 if no):\"))\n",
    "    lst.append([r])\n",
    "    r=int(input(\"chest pain type-typical angina(enter 1 if yes\\n enter 0 if no):\"))\n",
    "    lst.append([r])\n",
    "    r=int(input(\"rest ecg type-left ventricular hypertrophy(enter 1 if yes\\n enter 0 if no):\"))\n",
    "    lst.append([r])\n",
    "    r=int(input(\"rest ecg type-normal(enter 1 if yes\\n enter 0 if no):\"))\n",
    "    lst.append([r])\n",
    "    r=int(input(\"st slope type-flat(enter 1 if yes\\n enter 0 if no):\"))\n",
    "    lst.append([r])\n",
    "    r=int(input(\"st slope type-upsloping(enter 1 if yes\\n enter 0 if no):\"))\n",
    "    lst.append([r])\n",
    "    r=int(input(\"thalassemia type-normal(enter 1 if yes\\n enter 0 if no):\"))\n",
    "    lst.append([r])\n",
    "    r=int(input(\"thalassemia type-reversable defect(enter 1 if yes\\n enter 0 if no):\"))\n",
    "    lst.append([r])\n",
    "    r=int(input(\"thalassemia type-fixed defect(enter 1 if yes\\n enter 0 if no):\"))\n",
    "    lst.append([r])\n",
    "   \n",
    "     #for i in range(0,19):\n",
    "        #if(i==7 ):\n",
    "        #    r=float(input())\n",
    "       # else:\n",
    "       #     r=int(input())\n",
    "       # lst.append([r])\n",
    "\n",
    "#input = (5,166,72,19,175,25.8,0.587,51)\n",
    "\n",
    "# Changing input data to numpy array\n",
    "    input_array = np.asarray(lst)\n",
    "\n",
    "# Reshaping input\n",
    "    input_reshaped = input_array.reshape(1,-1)\n",
    "\n",
    "# Standardiaing data\n",
    "    std_data = scaler.transform(input_reshaped)\n",
    "    #print(std_data)\n",
    "\n",
    "    prediction =logre.predict(std_data)\n",
    "    #print(prediction)\n",
    "\n",
    "    if(prediction[0]==0):\n",
    "          print('you may have heart disease')\n",
    "    else:\n",
    "          print(\"you don't have a heart disease\")\n",
    "        \n",
    "predict()\n",
    "#lst=[43,0,2,140,192,173,1,1.3,0,0,0,1,0,0,0,1,1,0,0]\n"
   ]
  },
  {
   "cell_type": "code",
   "execution_count": null,
   "id": "644937b8",
   "metadata": {},
   "outputs": [],
   "source": []
  }
 ],
 "metadata": {
  "kernelspec": {
   "display_name": "Python 3",
   "language": "python",
   "name": "python3"
  },
  "language_info": {
   "codemirror_mode": {
    "name": "ipython",
    "version": 3
   },
   "file_extension": ".py",
   "mimetype": "text/x-python",
   "name": "python",
   "nbconvert_exporter": "python",
   "pygments_lexer": "ipython3",
   "version": "3.8.8"
  }
 },
 "nbformat": 4,
 "nbformat_minor": 5
}
