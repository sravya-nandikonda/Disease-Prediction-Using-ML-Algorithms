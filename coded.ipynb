{
 "cells": [
  {
   "cell_type": "code",
   "execution_count": 2,
   "id": "dd437227",
   "metadata": {},
   "outputs": [],
   "source": [
    "import numpy as np\n",
    "import pandas as pd;\n",
    "from sklearn.preprocessing import StandardScaler\n",
    "from sklearn.model_selection import train_test_split\n",
    "from sklearn import svm\n",
    "from sklearn.metrics import accuracy_score"
   ]
  },
  {
   "cell_type": "code",
   "execution_count": 3,
   "id": "f5771553",
   "metadata": {},
   "outputs": [],
   "source": [
    "dataset = pd.read_csv('diabetes.csv')"
   ]
  },
  {
   "cell_type": "code",
   "execution_count": 4,
   "id": "5388ea20",
   "metadata": {},
   "outputs": [],
   "source": [
    "# First 5 Rows \n",
    "#dataset.head() "
   ]
  },
  {
   "cell_type": "code",
   "execution_count": 5,
   "id": "2b6c1de9",
   "metadata": {},
   "outputs": [],
   "source": [
    "# No of Rows and Columns\n",
    "#dataset.shape"
   ]
  },
  {
   "cell_type": "code",
   "execution_count": 6,
   "id": "2ec1513f",
   "metadata": {},
   "outputs": [],
   "source": [
    "# Statistical Measures\n",
    "#dataset.describe()\n"
   ]
  },
  {
   "cell_type": "code",
   "execution_count": 7,
   "id": "2025ec8e",
   "metadata": {},
   "outputs": [],
   "source": [
    "# No of Diabetic and Non-diabetic\n",
    "#dataset['Outcome'].value_counts()"
   ]
  },
  {
   "cell_type": "markdown",
   "id": "f204695d",
   "metadata": {},
   "source": [
    "## 0 ---> Non-diabetic\n",
    "## 1 ---> Diabetic"
   ]
  },
  {
   "cell_type": "code",
   "execution_count": 8,
   "id": "9f143911",
   "metadata": {},
   "outputs": [],
   "source": [
    "# Mean\n",
    "#dataset.groupby('Outcome').mean()"
   ]
  },
  {
   "cell_type": "code",
   "execution_count": 9,
   "id": "f2b71c56",
   "metadata": {},
   "outputs": [],
   "source": [
    "# Seperating Data and Labels\n",
    "X = dataset.drop(columns = 'Outcome',axis=1)\n",
    "Y = dataset['Outcome']"
   ]
  },
  {
   "cell_type": "code",
   "execution_count": 10,
   "id": "eef7e9ce",
   "metadata": {},
   "outputs": [],
   "source": [
    "#print(X)"
   ]
  },
  {
   "cell_type": "code",
   "execution_count": 11,
   "id": "930cd1f7",
   "metadata": {},
   "outputs": [],
   "source": [
    "#print(Y)"
   ]
  },
  {
   "cell_type": "markdown",
   "id": "fe39bd9a",
   "metadata": {},
   "source": [
    "## Data Standardization"
   ]
  },
  {
   "cell_type": "code",
   "execution_count": 12,
   "id": "24b1907e",
   "metadata": {},
   "outputs": [
    {
     "data": {
      "text/plain": [
       "StandardScaler()"
      ]
     },
     "execution_count": 12,
     "metadata": {},
     "output_type": "execute_result"
    }
   ],
   "source": [
    "scaler = StandardScaler()\n",
    "scaler.fit(X)"
   ]
  },
  {
   "cell_type": "code",
   "execution_count": 13,
   "id": "c8d5779a",
   "metadata": {},
   "outputs": [],
   "source": [
    "standardized_data = scaler.transform(X)\n",
    "#print(standardized_data)"
   ]
  },
  {
   "cell_type": "code",
   "execution_count": 14,
   "id": "f5ca2f1d",
   "metadata": {},
   "outputs": [],
   "source": [
    "X = standardized_data\n",
    "Y = dataset['Outcome']\n",
    "#print(X)"
   ]
  },
  {
   "cell_type": "code",
   "execution_count": 15,
   "id": "5ee14693",
   "metadata": {},
   "outputs": [],
   "source": [
    "#print(Y)"
   ]
  },
  {
   "cell_type": "markdown",
   "id": "83432c5e",
   "metadata": {},
   "source": [
    "## Train Test Spilt"
   ]
  },
  {
   "cell_type": "code",
   "execution_count": 16,
   "id": "33c13ac8",
   "metadata": {},
   "outputs": [],
   "source": [
    "X_train, X_test, Y_train, Y_test = train_test_split(X, Y, test_size=0.2, stratify=Y, random_state=2)\n",
    "#print(X.shape, X_train.shape, X_test.shape)"
   ]
  },
  {
   "cell_type": "markdown",
   "id": "e28a50f8",
   "metadata": {},
   "source": [
    "## Training the Model"
   ]
  },
  {
   "cell_type": "code",
   "execution_count": 17,
   "id": "6a0626c7",
   "metadata": {},
   "outputs": [
    {
     "data": {
      "text/plain": [
       "SVC(kernel='linear')"
      ]
     },
     "execution_count": 17,
     "metadata": {},
     "output_type": "execute_result"
    }
   ],
   "source": [
    "classifier = svm.SVC(kernel = 'linear')\n",
    "classifier.fit(X_train, Y_train)"
   ]
  },
  {
   "cell_type": "markdown",
   "id": "bd93d8f9",
   "metadata": {},
   "source": [
    "## Module Evaluation"
   ]
  },
  {
   "cell_type": "code",
   "execution_count": 18,
   "id": "d5c863c8",
   "metadata": {},
   "outputs": [],
   "source": [
    "# Accuracy Score on training data\n",
    "X_train_prediction = classifier.predict(X_train)\n",
    "training_data_accuracy = accuracy_score(X_train_prediction, Y_train)"
   ]
  },
  {
   "cell_type": "code",
   "execution_count": 19,
   "id": "c00a23bc",
   "metadata": {},
   "outputs": [],
   "source": [
    "#print('Accuracy score of training data : ', training_data_accuracy)"
   ]
  },
  {
   "cell_type": "code",
   "execution_count": 20,
   "id": "5bb56a32",
   "metadata": {},
   "outputs": [],
   "source": [
    "X_test_prediction = classifier.predict(X_test)\n",
    "testing_data_accuracy = accuracy_score(X_test_prediction, Y_test)"
   ]
  },
  {
   "cell_type": "code",
   "execution_count": 21,
   "id": "2fc5c121",
   "metadata": {},
   "outputs": [],
   "source": [
    "#print('Accuracy score of testing data : ', testing_data_accuracy)"
   ]
  },
  {
   "cell_type": "markdown",
   "id": "455aa723",
   "metadata": {},
   "source": [
    "## Result"
   ]
  },
  {
   "cell_type": "code",
   "execution_count": 23,
   "id": "4a60e77a",
   "metadata": {},
   "outputs": [],
   "source": [
    "def predict():\n",
    "    print(\"enter input:\")\n",
    "\n",
    "    lst=[]\n",
    "    for i in range(0,8):\n",
    "        if(i==5 or i==6):\n",
    "            r=float(input())\n",
    "        else:\n",
    "            r=int(input())\n",
    "        lst.append([r])\n",
    "\n",
    "#input = (5,166,72,19,175,25.8,0.587,51)\n",
    "\n",
    "# Changing input data to numpy array\n",
    "    input_array = np.asarray(lst)\n",
    "\n",
    "# Reshaping input\n",
    "    input_reshaped = input_array.reshape(1,-1)\n",
    "\n",
    "# Standardiaing data\n",
    "    std_data = scaler.transform(input_reshaped)\n",
    "    #print(std_data)\n",
    "\n",
    "    prediction = classifier.predict(std_data)\n",
    "    #print(prediction)\n",
    "\n",
    "    if(prediction[0]==0):\n",
    "        print('Non-diabetic')\n",
    "    else:\n",
    "        print('Diabetic')\n",
    "        \n"
   ]
  },
  {
   "cell_type": "code",
   "execution_count": null,
   "id": "d57a0566",
   "metadata": {},
   "outputs": [
    {
     "name": "stdout",
     "output_type": "stream",
     "text": [
      "enter input:\n"
     ]
    }
   ],
   "source": [
    "def predict():\n",
    "    print(\"enter input:\")\n",
    "\n",
    "    lst=[]\n",
    "    \n",
    "    r=int(input(\"enter Number of times you are pregnant(enter 0 if you didn't):\"))\n",
    "    lst.append([r])\n",
    "    r=int(input(\"enter Plasma glucose concentration:\"))\n",
    "    lst.append([r])\n",
    "    r=int(input(\"enter Diastolic blood pressure:\"))\n",
    "    lst.append([r])\n",
    "    r=int(input(\"enter Triceps skin fold thickness (mm):\"))\n",
    "    lst.append([r])\n",
    "    r=int(input(\"enter 2-Hour serum insulin (mu U/ml):\"))\n",
    "    lst.append([r])\n",
    "    r=float(input(\"enter Body mass index (weight in kg/(height in m)^2):\"))\n",
    "    lst.append([r])\n",
    "    r=float(input(\"enter Diabetes pedigree function:\"))\n",
    "    lst.append([r])\n",
    "    r=int(input(\"enter Age (in years):\"))\n",
    "    lst.append([r])\n",
    "    \n",
    "    #for i in range(0,8):\n",
    "     #   if(i==5 or i==6):\n",
    "     #       r=float(input())\n",
    "     #   else:\n",
    "     #       r=int(input())\n",
    "    #    lst.append([r])\n",
    "\n",
    "#input = (5,166,72,19,175,25.8,0.587,51)\n",
    "\n",
    "# Changing input data to numpy array\n",
    "    input_array = np.asarray(lst)\n",
    "\n",
    "# Reshaping input\n",
    "    input_reshaped = input_array.reshape(1,-1)\n",
    "\n",
    "# Standardiaing data\n",
    "    std_data = scaler.transform(input_reshaped)\n",
    "    #print(std_data)\n",
    "\n",
    "    prediction = classifier.predict(std_data)\n",
    "    #print(prediction)\n",
    "\n",
    "    if(prediction[0]==0):\n",
    "        print('Non-diabetic')\n",
    "    else:\n",
    "        print('Diabetic')\n",
    "        \n",
    "predict()"
   ]
  },
  {
   "cell_type": "markdown",
   "id": "a6c8fe9d",
   "metadata": {},
   "source": [
    "##### "
   ]
  }
 ],
 "metadata": {
  "kernelspec": {
   "display_name": "Python 3",
   "language": "python",
   "name": "python3"
  },
  "language_info": {
   "codemirror_mode": {
    "name": "ipython",
    "version": 3
   },
   "file_extension": ".py",
   "mimetype": "text/x-python",
   "name": "python",
   "nbconvert_exporter": "python",
   "pygments_lexer": "ipython3",
   "version": "3.8.8"
  }
 },
 "nbformat": 4,
 "nbformat_minor": 5
}
